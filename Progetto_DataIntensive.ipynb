{
  "nbformat": 4,
  "nbformat_minor": 0,
  "metadata": {
    "kernelspec": {
      "display_name": "Python 3",
      "language": "python",
      "name": "python3"
    },
    "language_info": {
      "codemirror_mode": {
        "name": "ipython",
        "version": 3
      },
      "file_extension": ".py",
      "mimetype": "text/x-python",
      "name": "python",
      "nbconvert_exporter": "python",
      "pygments_lexer": "ipython3",
      "version": "3.7.3"
    },
    "colab": {
      "name": "Progetto_DataIntensive.ipynb",
      "provenance": [],
      "collapsed_sections": [
        "fQyEGmUWAbqB"
      ]
    }
  },
  "cells": [
    {
      "cell_type": "markdown",
      "metadata": {
        "id": "1PV8mYaS96DF"
      },
      "source": [
        "# Progetto Data Intensive 2021\n",
        "https://www.kaggle.com/andrewmvd/fetal-health-classification\n",
        "\n",
        "Anthony Cazzola- Matricola 0000882550"
      ]
    },
    {
      "cell_type": "code",
      "metadata": {
        "id": "PO4Con_Wlarv"
      },
      "source": [
        "import matplotlib.pyplot as plt\n",
        "from sklearn.model_selection import GridSearchCV, StratifiedKFold\n",
        "from sklearn.metrics import f1_score\n",
        "from sklearn.preprocessing import StandardScaler\n",
        "from sklearn.pipeline import Pipeline\n",
        "from sklearn.linear_model import LogisticRegression\n",
        "from sklearn.metrics import confusion_matrix\n",
        "from sklearn.linear_model import Perceptron\n",
        "from sklearn.metrics import accuracy_score\n",
        "from sklearn.metrics import classification_report, confusion_matrix, plot_confusion_matrix\n",
        "import warnings\n",
        "from sklearn.dummy import DummyClassifier\n",
        "import scipy.stats as st\n",
        "import numpy as np\n",
        "import pandas as pd\n",
        "import matplotlib.pyplot as plt\n",
        "import seaborn as sns\n",
        "import seaborn as sns\n",
        "from sklearn.svm import SVC\n",
        "from sklearn.tree import DecisionTreeClassifier\n",
        "warnings.filterwarnings(\"ignore\")\n",
        "%matplotlib inline"
      ],
      "execution_count": 1,
      "outputs": []
    },
    {
      "cell_type": "markdown",
      "metadata": {
        "id": "48F2s88296DJ"
      },
      "source": [
        "#Introduzione \n",
        "\n",
        "Il Dataset è composto da 2126 misurazioni caratterizzate da 22 colonne.\n",
        "Fra le feautures che caratterizzano ogni istanza c'è anche 'fetal_health' che rappresenta la classe di appartenza dello stato di salute del feto.\n",
        "I dati del database infatti, sono raccolti attraverso esami CTG mentre lo stato di salute del feto è classificato da ostretici esperti, in 3 classi\n",
        "\n",
        "\n",
        "\n",
        "\n",
        "*   Normale (1)\n",
        "*   Sospetto (2)\n",
        "*   Patologico (3)\n",
        "\n",
        "Delle colonne che caratterizzano il database alcune rappresentano statistiche sui dati altre, piu utili all'obbiettivo, richiedono invece ulteriori descrizioni.\n",
        "\n",
        "* **Baseline value** : la baseline value rappresenta il battito fetale(FHR)\n",
        "l'FHR è calcolato monitorano il battito cardiaco in un intervallo di 10 minuti. Un FHR normale dovrebbe trovarsi tra i 110-160 bpm\n",
        "* **Accelerations** : le accellerazioni sono aumenti del battito cardiaco di almeno 15 bpm sopra la baseline per almeno 15 secondi. Le accellerazioni del battito cardiaco sono normali, indicano che il feto ha un adeguato supporto d'ossigeno\n",
        "* **Fetal movement** : Questa misura è calcolata attraverso il conteggio dei 'calci'(movimenti) del feto sentiti dalla madre.\n",
        "\n",
        "* **Uterine_contractions** : Come suggerisce la parola, indica le contrazioni dell'utero.\n",
        "Tale valore indica se la gravidanza e il travaglio stanno procedento nel migliore dei modi. Il numero di contrazioni non dovrebbe essere ne troppo alto ne troppo basso.\n",
        "* **Decelerations** :  Le decellerazioni sono riferite sempre al battito cardiaco e indicano una diminuzione del battito cardiaco di almeno 15 bpm al di sotto della baseline per almeno 15 secondi.\n",
        "Nel dataBase, sono divise in 3 tipi a seconda della loro gravità: light_decelerations, severe_deceleration, prolunged_deceleration\n",
        "* **Short term variability (STV)** : Rappresenta la variazione del battito 'beat-to-beat' quindi l'oscillazione dell'FHR intorno alla baseline con un ampiezza  di 5-10 battiti \n",
        "* **Long term variability** : Rappresenta un oscillazione del battito cardiaco calcolata con una frequenza più bassa rispetto all STV e con un intervallo piu alto (da 10 a 25 bpm)\n",
        "\n",
        "Il nostro obbiettivo quindi sarà quello, di classificare nel migliore dei modi lo stato di salute del feto conoscendo queste variabili.\n",
        "\n",
        "\n",
        "\n"
      ]
    },
    {
      "cell_type": "markdown",
      "metadata": {
        "id": "OiueQMUIXfYs"
      },
      "source": [
        "#Esplorazione e pulizia dei dati\n"
      ]
    },
    {
      "cell_type": "code",
      "metadata": {
        "id": "BXOb5C3go8nl"
      },
      "source": [
        "data= pd.read_csv('fetal_health.csv')"
      ],
      "execution_count": 2,
      "outputs": []
    },
    {
      "cell_type": "code",
      "metadata": {
        "id": "Q4cNE3BSXec6",
        "colab": {
          "base_uri": "https://localhost:8080/",
          "height": 220
        },
        "outputId": "19eec3e5-6a1a-44f4-e460-5be4d92bc56d"
      },
      "source": [
        "\n",
        "data.head(3)"
      ],
      "execution_count": 3,
      "outputs": [
        {
          "output_type": "execute_result",
          "data": {
            "text/html": [
              "\n",
              "  <div id=\"df-3b023e1c-160b-4a51-a81f-4bc0134f1232\">\n",
              "    <div class=\"colab-df-container\">\n",
              "      <div>\n",
              "<style scoped>\n",
              "    .dataframe tbody tr th:only-of-type {\n",
              "        vertical-align: middle;\n",
              "    }\n",
              "\n",
              "    .dataframe tbody tr th {\n",
              "        vertical-align: top;\n",
              "    }\n",
              "\n",
              "    .dataframe thead th {\n",
              "        text-align: right;\n",
              "    }\n",
              "</style>\n",
              "<table border=\"1\" class=\"dataframe\">\n",
              "  <thead>\n",
              "    <tr style=\"text-align: right;\">\n",
              "      <th></th>\n",
              "      <th>baseline value</th>\n",
              "      <th>accelerations</th>\n",
              "      <th>fetal_movement</th>\n",
              "      <th>uterine_contractions</th>\n",
              "      <th>light_decelerations</th>\n",
              "      <th>severe_decelerations</th>\n",
              "      <th>prolongued_decelerations</th>\n",
              "      <th>abnormal_short_term_variability</th>\n",
              "      <th>mean_value_of_short_term_variability</th>\n",
              "      <th>percentage_of_time_with_abnormal_long_term_variability</th>\n",
              "      <th>mean_value_of_long_term_variability</th>\n",
              "      <th>histogram_width</th>\n",
              "      <th>histogram_min</th>\n",
              "      <th>histogram_max</th>\n",
              "      <th>histogram_number_of_peaks</th>\n",
              "      <th>histogram_number_of_zeroes</th>\n",
              "      <th>histogram_mode</th>\n",
              "      <th>histogram_mean</th>\n",
              "      <th>histogram_median</th>\n",
              "      <th>histogram_variance</th>\n",
              "      <th>histogram_tendency</th>\n",
              "      <th>fetal_health</th>\n",
              "    </tr>\n",
              "  </thead>\n",
              "  <tbody>\n",
              "    <tr>\n",
              "      <th>0</th>\n",
              "      <td>120.0</td>\n",
              "      <td>0.000</td>\n",
              "      <td>0.0</td>\n",
              "      <td>0.000</td>\n",
              "      <td>0.000</td>\n",
              "      <td>0.0</td>\n",
              "      <td>0.0</td>\n",
              "      <td>73.0</td>\n",
              "      <td>0.5</td>\n",
              "      <td>43.0</td>\n",
              "      <td>2.4</td>\n",
              "      <td>64.0</td>\n",
              "      <td>62.0</td>\n",
              "      <td>126.0</td>\n",
              "      <td>2.0</td>\n",
              "      <td>0.0</td>\n",
              "      <td>120.0</td>\n",
              "      <td>137.0</td>\n",
              "      <td>121.0</td>\n",
              "      <td>73.0</td>\n",
              "      <td>1.0</td>\n",
              "      <td>2.0</td>\n",
              "    </tr>\n",
              "    <tr>\n",
              "      <th>1</th>\n",
              "      <td>132.0</td>\n",
              "      <td>0.006</td>\n",
              "      <td>0.0</td>\n",
              "      <td>0.006</td>\n",
              "      <td>0.003</td>\n",
              "      <td>0.0</td>\n",
              "      <td>0.0</td>\n",
              "      <td>17.0</td>\n",
              "      <td>2.1</td>\n",
              "      <td>0.0</td>\n",
              "      <td>10.4</td>\n",
              "      <td>130.0</td>\n",
              "      <td>68.0</td>\n",
              "      <td>198.0</td>\n",
              "      <td>6.0</td>\n",
              "      <td>1.0</td>\n",
              "      <td>141.0</td>\n",
              "      <td>136.0</td>\n",
              "      <td>140.0</td>\n",
              "      <td>12.0</td>\n",
              "      <td>0.0</td>\n",
              "      <td>1.0</td>\n",
              "    </tr>\n",
              "    <tr>\n",
              "      <th>2</th>\n",
              "      <td>133.0</td>\n",
              "      <td>0.003</td>\n",
              "      <td>0.0</td>\n",
              "      <td>0.008</td>\n",
              "      <td>0.003</td>\n",
              "      <td>0.0</td>\n",
              "      <td>0.0</td>\n",
              "      <td>16.0</td>\n",
              "      <td>2.1</td>\n",
              "      <td>0.0</td>\n",
              "      <td>13.4</td>\n",
              "      <td>130.0</td>\n",
              "      <td>68.0</td>\n",
              "      <td>198.0</td>\n",
              "      <td>5.0</td>\n",
              "      <td>1.0</td>\n",
              "      <td>141.0</td>\n",
              "      <td>135.0</td>\n",
              "      <td>138.0</td>\n",
              "      <td>13.0</td>\n",
              "      <td>0.0</td>\n",
              "      <td>1.0</td>\n",
              "    </tr>\n",
              "  </tbody>\n",
              "</table>\n",
              "</div>\n",
              "      <button class=\"colab-df-convert\" onclick=\"convertToInteractive('df-3b023e1c-160b-4a51-a81f-4bc0134f1232')\"\n",
              "              title=\"Convert this dataframe to an interactive table.\"\n",
              "              style=\"display:none;\">\n",
              "        \n",
              "  <svg xmlns=\"http://www.w3.org/2000/svg\" height=\"24px\"viewBox=\"0 0 24 24\"\n",
              "       width=\"24px\">\n",
              "    <path d=\"M0 0h24v24H0V0z\" fill=\"none\"/>\n",
              "    <path d=\"M18.56 5.44l.94 2.06.94-2.06 2.06-.94-2.06-.94-.94-2.06-.94 2.06-2.06.94zm-11 1L8.5 8.5l.94-2.06 2.06-.94-2.06-.94L8.5 2.5l-.94 2.06-2.06.94zm10 10l.94 2.06.94-2.06 2.06-.94-2.06-.94-.94-2.06-.94 2.06-2.06.94z\"/><path d=\"M17.41 7.96l-1.37-1.37c-.4-.4-.92-.59-1.43-.59-.52 0-1.04.2-1.43.59L10.3 9.45l-7.72 7.72c-.78.78-.78 2.05 0 2.83L4 21.41c.39.39.9.59 1.41.59.51 0 1.02-.2 1.41-.59l7.78-7.78 2.81-2.81c.8-.78.8-2.07 0-2.86zM5.41 20L4 18.59l7.72-7.72 1.47 1.35L5.41 20z\"/>\n",
              "  </svg>\n",
              "      </button>\n",
              "      \n",
              "  <style>\n",
              "    .colab-df-container {\n",
              "      display:flex;\n",
              "      flex-wrap:wrap;\n",
              "      gap: 12px;\n",
              "    }\n",
              "\n",
              "    .colab-df-convert {\n",
              "      background-color: #E8F0FE;\n",
              "      border: none;\n",
              "      border-radius: 50%;\n",
              "      cursor: pointer;\n",
              "      display: none;\n",
              "      fill: #1967D2;\n",
              "      height: 32px;\n",
              "      padding: 0 0 0 0;\n",
              "      width: 32px;\n",
              "    }\n",
              "\n",
              "    .colab-df-convert:hover {\n",
              "      background-color: #E2EBFA;\n",
              "      box-shadow: 0px 1px 2px rgba(60, 64, 67, 0.3), 0px 1px 3px 1px rgba(60, 64, 67, 0.15);\n",
              "      fill: #174EA6;\n",
              "    }\n",
              "\n",
              "    [theme=dark] .colab-df-convert {\n",
              "      background-color: #3B4455;\n",
              "      fill: #D2E3FC;\n",
              "    }\n",
              "\n",
              "    [theme=dark] .colab-df-convert:hover {\n",
              "      background-color: #434B5C;\n",
              "      box-shadow: 0px 1px 3px 1px rgba(0, 0, 0, 0.15);\n",
              "      filter: drop-shadow(0px 1px 2px rgba(0, 0, 0, 0.3));\n",
              "      fill: #FFFFFF;\n",
              "    }\n",
              "  </style>\n",
              "\n",
              "      <script>\n",
              "        const buttonEl =\n",
              "          document.querySelector('#df-3b023e1c-160b-4a51-a81f-4bc0134f1232 button.colab-df-convert');\n",
              "        buttonEl.style.display =\n",
              "          google.colab.kernel.accessAllowed ? 'block' : 'none';\n",
              "\n",
              "        async function convertToInteractive(key) {\n",
              "          const element = document.querySelector('#df-3b023e1c-160b-4a51-a81f-4bc0134f1232');\n",
              "          const dataTable =\n",
              "            await google.colab.kernel.invokeFunction('convertToInteractive',\n",
              "                                                     [key], {});\n",
              "          if (!dataTable) return;\n",
              "\n",
              "          const docLinkHtml = 'Like what you see? Visit the ' +\n",
              "            '<a target=\"_blank\" href=https://colab.research.google.com/notebooks/data_table.ipynb>data table notebook</a>'\n",
              "            + ' to learn more about interactive tables.';\n",
              "          element.innerHTML = '';\n",
              "          dataTable['output_type'] = 'display_data';\n",
              "          await google.colab.output.renderOutput(dataTable, element);\n",
              "          const docLink = document.createElement('div');\n",
              "          docLink.innerHTML = docLinkHtml;\n",
              "          element.appendChild(docLink);\n",
              "        }\n",
              "      </script>\n",
              "    </div>\n",
              "  </div>\n",
              "  "
            ],
            "text/plain": [
              "   baseline value  accelerations  ...  histogram_tendency  fetal_health\n",
              "0           120.0          0.000  ...                 1.0           2.0\n",
              "1           132.0          0.006  ...                 0.0           1.0\n",
              "2           133.0          0.003  ...                 0.0           1.0\n",
              "\n",
              "[3 rows x 22 columns]"
            ]
          },
          "metadata": {},
          "execution_count": 3
        }
      ]
    },
    {
      "cell_type": "code",
      "metadata": {
        "id": "1a9AM4uYphfm",
        "colab": {
          "base_uri": "https://localhost:8080/",
          "height": 0
        },
        "outputId": "82a9cd1a-36d2-4e48-c392-7d9dc3ce9919"
      },
      "source": [
        "data.info()"
      ],
      "execution_count": 4,
      "outputs": [
        {
          "output_type": "stream",
          "name": "stdout",
          "text": [
            "<class 'pandas.core.frame.DataFrame'>\n",
            "RangeIndex: 2126 entries, 0 to 2125\n",
            "Data columns (total 22 columns):\n",
            " #   Column                                                  Non-Null Count  Dtype  \n",
            "---  ------                                                  --------------  -----  \n",
            " 0   baseline value                                          2126 non-null   float64\n",
            " 1   accelerations                                           2126 non-null   float64\n",
            " 2   fetal_movement                                          2126 non-null   float64\n",
            " 3   uterine_contractions                                    2126 non-null   float64\n",
            " 4   light_decelerations                                     2126 non-null   float64\n",
            " 5   severe_decelerations                                    2126 non-null   float64\n",
            " 6   prolongued_decelerations                                2126 non-null   float64\n",
            " 7   abnormal_short_term_variability                         2126 non-null   float64\n",
            " 8   mean_value_of_short_term_variability                    2126 non-null   float64\n",
            " 9   percentage_of_time_with_abnormal_long_term_variability  2126 non-null   float64\n",
            " 10  mean_value_of_long_term_variability                     2126 non-null   float64\n",
            " 11  histogram_width                                         2126 non-null   float64\n",
            " 12  histogram_min                                           2126 non-null   float64\n",
            " 13  histogram_max                                           2126 non-null   float64\n",
            " 14  histogram_number_of_peaks                               2126 non-null   float64\n",
            " 15  histogram_number_of_zeroes                              2126 non-null   float64\n",
            " 16  histogram_mode                                          2126 non-null   float64\n",
            " 17  histogram_mean                                          2126 non-null   float64\n",
            " 18  histogram_median                                        2126 non-null   float64\n",
            " 19  histogram_variance                                      2126 non-null   float64\n",
            " 20  histogram_tendency                                      2126 non-null   float64\n",
            " 21  fetal_health                                            2126 non-null   float64\n",
            "dtypes: float64(22)\n",
            "memory usage: 365.5 KB\n"
          ]
        }
      ]
    },
    {
      "cell_type": "markdown",
      "metadata": {
        "id": "9pnlTKO2Yaj3"
      },
      "source": [
        "Per prima cosa assicuriamoci che non ci siano valori null all'interno del database."
      ]
    },
    {
      "cell_type": "code",
      "metadata": {
        "id": "gKY7sqY6pwb-",
        "colab": {
          "base_uri": "https://localhost:8080/",
          "height": 0
        },
        "outputId": "ce1a2e59-2e76-4571-f175-80f6ed35f828"
      },
      "source": [
        "data.isna().sum()"
      ],
      "execution_count": 5,
      "outputs": [
        {
          "output_type": "execute_result",
          "data": {
            "text/plain": [
              "baseline value                                            0\n",
              "accelerations                                             0\n",
              "fetal_movement                                            0\n",
              "uterine_contractions                                      0\n",
              "light_decelerations                                       0\n",
              "severe_decelerations                                      0\n",
              "prolongued_decelerations                                  0\n",
              "abnormal_short_term_variability                           0\n",
              "mean_value_of_short_term_variability                      0\n",
              "percentage_of_time_with_abnormal_long_term_variability    0\n",
              "mean_value_of_long_term_variability                       0\n",
              "histogram_width                                           0\n",
              "histogram_min                                             0\n",
              "histogram_max                                             0\n",
              "histogram_number_of_peaks                                 0\n",
              "histogram_number_of_zeroes                                0\n",
              "histogram_mode                                            0\n",
              "histogram_mean                                            0\n",
              "histogram_median                                          0\n",
              "histogram_variance                                        0\n",
              "histogram_tendency                                        0\n",
              "fetal_health                                              0\n",
              "dtype: int64"
            ]
          },
          "metadata": {},
          "execution_count": 5
        }
      ]
    },
    {
      "cell_type": "markdown",
      "metadata": {
        "id": "QEYbz_DSZPvL"
      },
      "source": [
        "In più verifichiamo la presenza di dati ridondati per eliminarli"
      ]
    },
    {
      "cell_type": "code",
      "metadata": {
        "id": "hUtdKYVqYtQ7",
        "colab": {
          "base_uri": "https://localhost:8080/",
          "height": 0
        },
        "outputId": "d2364bca-0161-4404-e5ea-efb8d2bf26eb"
      },
      "source": [
        "if(data.duplicated(keep='first').sum()>0):\n",
        "  data.drop(data[data.duplicated(keep='first')].index, inplace=True)\n",
        "\n",
        "data.duplicated(keep='first').sum()"
      ],
      "execution_count": 6,
      "outputs": [
        {
          "output_type": "execute_result",
          "data": {
            "text/plain": [
              "0"
            ]
          },
          "metadata": {},
          "execution_count": 6
        }
      ]
    },
    {
      "cell_type": "markdown",
      "metadata": {
        "id": "k39CBddUbWlr"
      },
      "source": [
        "Rinominiamo inoltre le colonne in modo da rendere il loro nome piu coinciso, senza perdita di generalità"
      ]
    },
    {
      "cell_type": "code",
      "metadata": {
        "id": "bVr4deE3Y8I3"
      },
      "source": [
        "data.rename(columns={'baseline value':'Baseline_FHR',\n",
        "                     'abnormal_short_term_variability':'abnormal_STV', 'mean_value_of_short_term_variability':'mean_STV',\n",
        "                     'percentage_of_time_with_abnormal_long_term_variability':'percentage_duration_LTV',\n",
        "                     'mean_value_of_long_term_variability':'mean_LTV'}, inplace=True)"
      ],
      "execution_count": 7,
      "outputs": []
    },
    {
      "cell_type": "markdown",
      "metadata": {
        "id": "LYoIhEWtbien"
      },
      "source": [
        "In più possimo anche togliere le colonne che rappresentano gli istogrammi, considerando che sono ricavati dai dati e non idispensabili per l'obbiettivo."
      ]
    },
    {
      "cell_type": "code",
      "metadata": {
        "id": "uTMdx0GrcbXZ"
      },
      "source": [
        "data=data.drop(columns=['histogram_width',\n",
        "       'histogram_min', 'histogram_max', 'histogram_number_of_peaks',\n",
        "       'histogram_number_of_zeroes', 'histogram_mode', 'histogram_mean',\n",
        "       'histogram_median', 'histogram_variance', 'histogram_tendency'])\n"
      ],
      "execution_count": 8,
      "outputs": []
    },
    {
      "cell_type": "code",
      "metadata": {
        "id": "SQksMGVIfsLe",
        "colab": {
          "base_uri": "https://localhost:8080/",
          "height": 200
        },
        "outputId": "c87a43b1-a635-48a8-a892-f28c75080f46"
      },
      "source": [
        "data.head(5)"
      ],
      "execution_count": 9,
      "outputs": [
        {
          "output_type": "execute_result",
          "data": {
            "text/html": [
              "\n",
              "  <div id=\"df-04a30fc4-3c1d-41b1-aef9-3256d8cd9df4\">\n",
              "    <div class=\"colab-df-container\">\n",
              "      <div>\n",
              "<style scoped>\n",
              "    .dataframe tbody tr th:only-of-type {\n",
              "        vertical-align: middle;\n",
              "    }\n",
              "\n",
              "    .dataframe tbody tr th {\n",
              "        vertical-align: top;\n",
              "    }\n",
              "\n",
              "    .dataframe thead th {\n",
              "        text-align: right;\n",
              "    }\n",
              "</style>\n",
              "<table border=\"1\" class=\"dataframe\">\n",
              "  <thead>\n",
              "    <tr style=\"text-align: right;\">\n",
              "      <th></th>\n",
              "      <th>Baseline_FHR</th>\n",
              "      <th>accelerations</th>\n",
              "      <th>fetal_movement</th>\n",
              "      <th>uterine_contractions</th>\n",
              "      <th>light_decelerations</th>\n",
              "      <th>severe_decelerations</th>\n",
              "      <th>prolongued_decelerations</th>\n",
              "      <th>abnormal_STV</th>\n",
              "      <th>mean_STV</th>\n",
              "      <th>percentage_duration_LTV</th>\n",
              "      <th>mean_LTV</th>\n",
              "      <th>fetal_health</th>\n",
              "    </tr>\n",
              "  </thead>\n",
              "  <tbody>\n",
              "    <tr>\n",
              "      <th>0</th>\n",
              "      <td>120.0</td>\n",
              "      <td>0.000</td>\n",
              "      <td>0.0</td>\n",
              "      <td>0.000</td>\n",
              "      <td>0.000</td>\n",
              "      <td>0.0</td>\n",
              "      <td>0.0</td>\n",
              "      <td>73.0</td>\n",
              "      <td>0.5</td>\n",
              "      <td>43.0</td>\n",
              "      <td>2.4</td>\n",
              "      <td>2.0</td>\n",
              "    </tr>\n",
              "    <tr>\n",
              "      <th>1</th>\n",
              "      <td>132.0</td>\n",
              "      <td>0.006</td>\n",
              "      <td>0.0</td>\n",
              "      <td>0.006</td>\n",
              "      <td>0.003</td>\n",
              "      <td>0.0</td>\n",
              "      <td>0.0</td>\n",
              "      <td>17.0</td>\n",
              "      <td>2.1</td>\n",
              "      <td>0.0</td>\n",
              "      <td>10.4</td>\n",
              "      <td>1.0</td>\n",
              "    </tr>\n",
              "    <tr>\n",
              "      <th>2</th>\n",
              "      <td>133.0</td>\n",
              "      <td>0.003</td>\n",
              "      <td>0.0</td>\n",
              "      <td>0.008</td>\n",
              "      <td>0.003</td>\n",
              "      <td>0.0</td>\n",
              "      <td>0.0</td>\n",
              "      <td>16.0</td>\n",
              "      <td>2.1</td>\n",
              "      <td>0.0</td>\n",
              "      <td>13.4</td>\n",
              "      <td>1.0</td>\n",
              "    </tr>\n",
              "    <tr>\n",
              "      <th>3</th>\n",
              "      <td>134.0</td>\n",
              "      <td>0.003</td>\n",
              "      <td>0.0</td>\n",
              "      <td>0.008</td>\n",
              "      <td>0.003</td>\n",
              "      <td>0.0</td>\n",
              "      <td>0.0</td>\n",
              "      <td>16.0</td>\n",
              "      <td>2.4</td>\n",
              "      <td>0.0</td>\n",
              "      <td>23.0</td>\n",
              "      <td>1.0</td>\n",
              "    </tr>\n",
              "    <tr>\n",
              "      <th>4</th>\n",
              "      <td>132.0</td>\n",
              "      <td>0.007</td>\n",
              "      <td>0.0</td>\n",
              "      <td>0.008</td>\n",
              "      <td>0.000</td>\n",
              "      <td>0.0</td>\n",
              "      <td>0.0</td>\n",
              "      <td>16.0</td>\n",
              "      <td>2.4</td>\n",
              "      <td>0.0</td>\n",
              "      <td>19.9</td>\n",
              "      <td>1.0</td>\n",
              "    </tr>\n",
              "  </tbody>\n",
              "</table>\n",
              "</div>\n",
              "      <button class=\"colab-df-convert\" onclick=\"convertToInteractive('df-04a30fc4-3c1d-41b1-aef9-3256d8cd9df4')\"\n",
              "              title=\"Convert this dataframe to an interactive table.\"\n",
              "              style=\"display:none;\">\n",
              "        \n",
              "  <svg xmlns=\"http://www.w3.org/2000/svg\" height=\"24px\"viewBox=\"0 0 24 24\"\n",
              "       width=\"24px\">\n",
              "    <path d=\"M0 0h24v24H0V0z\" fill=\"none\"/>\n",
              "    <path d=\"M18.56 5.44l.94 2.06.94-2.06 2.06-.94-2.06-.94-.94-2.06-.94 2.06-2.06.94zm-11 1L8.5 8.5l.94-2.06 2.06-.94-2.06-.94L8.5 2.5l-.94 2.06-2.06.94zm10 10l.94 2.06.94-2.06 2.06-.94-2.06-.94-.94-2.06-.94 2.06-2.06.94z\"/><path d=\"M17.41 7.96l-1.37-1.37c-.4-.4-.92-.59-1.43-.59-.52 0-1.04.2-1.43.59L10.3 9.45l-7.72 7.72c-.78.78-.78 2.05 0 2.83L4 21.41c.39.39.9.59 1.41.59.51 0 1.02-.2 1.41-.59l7.78-7.78 2.81-2.81c.8-.78.8-2.07 0-2.86zM5.41 20L4 18.59l7.72-7.72 1.47 1.35L5.41 20z\"/>\n",
              "  </svg>\n",
              "      </button>\n",
              "      \n",
              "  <style>\n",
              "    .colab-df-container {\n",
              "      display:flex;\n",
              "      flex-wrap:wrap;\n",
              "      gap: 12px;\n",
              "    }\n",
              "\n",
              "    .colab-df-convert {\n",
              "      background-color: #E8F0FE;\n",
              "      border: none;\n",
              "      border-radius: 50%;\n",
              "      cursor: pointer;\n",
              "      display: none;\n",
              "      fill: #1967D2;\n",
              "      height: 32px;\n",
              "      padding: 0 0 0 0;\n",
              "      width: 32px;\n",
              "    }\n",
              "\n",
              "    .colab-df-convert:hover {\n",
              "      background-color: #E2EBFA;\n",
              "      box-shadow: 0px 1px 2px rgba(60, 64, 67, 0.3), 0px 1px 3px 1px rgba(60, 64, 67, 0.15);\n",
              "      fill: #174EA6;\n",
              "    }\n",
              "\n",
              "    [theme=dark] .colab-df-convert {\n",
              "      background-color: #3B4455;\n",
              "      fill: #D2E3FC;\n",
              "    }\n",
              "\n",
              "    [theme=dark] .colab-df-convert:hover {\n",
              "      background-color: #434B5C;\n",
              "      box-shadow: 0px 1px 3px 1px rgba(0, 0, 0, 0.15);\n",
              "      filter: drop-shadow(0px 1px 2px rgba(0, 0, 0, 0.3));\n",
              "      fill: #FFFFFF;\n",
              "    }\n",
              "  </style>\n",
              "\n",
              "      <script>\n",
              "        const buttonEl =\n",
              "          document.querySelector('#df-04a30fc4-3c1d-41b1-aef9-3256d8cd9df4 button.colab-df-convert');\n",
              "        buttonEl.style.display =\n",
              "          google.colab.kernel.accessAllowed ? 'block' : 'none';\n",
              "\n",
              "        async function convertToInteractive(key) {\n",
              "          const element = document.querySelector('#df-04a30fc4-3c1d-41b1-aef9-3256d8cd9df4');\n",
              "          const dataTable =\n",
              "            await google.colab.kernel.invokeFunction('convertToInteractive',\n",
              "                                                     [key], {});\n",
              "          if (!dataTable) return;\n",
              "\n",
              "          const docLinkHtml = 'Like what you see? Visit the ' +\n",
              "            '<a target=\"_blank\" href=https://colab.research.google.com/notebooks/data_table.ipynb>data table notebook</a>'\n",
              "            + ' to learn more about interactive tables.';\n",
              "          element.innerHTML = '';\n",
              "          dataTable['output_type'] = 'display_data';\n",
              "          await google.colab.output.renderOutput(dataTable, element);\n",
              "          const docLink = document.createElement('div');\n",
              "          docLink.innerHTML = docLinkHtml;\n",
              "          element.appendChild(docLink);\n",
              "        }\n",
              "      </script>\n",
              "    </div>\n",
              "  </div>\n",
              "  "
            ],
            "text/plain": [
              "   Baseline_FHR  accelerations  ...  mean_LTV  fetal_health\n",
              "0         120.0          0.000  ...       2.4           2.0\n",
              "1         132.0          0.006  ...      10.4           1.0\n",
              "2         133.0          0.003  ...      13.4           1.0\n",
              "3         134.0          0.003  ...      23.0           1.0\n",
              "4         132.0          0.007  ...      19.9           1.0\n",
              "\n",
              "[5 rows x 12 columns]"
            ]
          },
          "metadata": {},
          "execution_count": 9
        }
      ]
    },
    {
      "cell_type": "markdown",
      "metadata": {
        "id": "ujmg5nYujzNY"
      },
      "source": [
        "Si puo ipotizzare, considerando la descrizione delle variabili riportate sopra che esista una qualche correlazione fra esse e la salute del feto.\n",
        "Infatti, come descritto prima, misure come l'accellerazione la deccellerazione o le contrazioni uterine possono influenzare molto la salute del feto.\n",
        "Vediamo quindi in che modo si relazionano le variabili per trarre qualche prima conclusione."
      ]
    },
    {
      "cell_type": "code",
      "metadata": {
        "id": "8mEBBPeelK2J",
        "colab": {
          "base_uri": "https://localhost:8080/",
          "height": 622
        },
        "outputId": "b8d28ee2-763a-4110-81cc-6cb4d7024604"
      },
      "source": [
        "plt.figure(figsize=(15,8))\n",
        "sns.set(font_scale=1)\n",
        "sns.heatmap(data.corr(), annot=True, cmap='coolwarm');"
      ],
      "execution_count": 10,
      "outputs": [
        {
          "output_type": "display_data",
          "data": {
            "image/png": "[encoded data removed]",
            "text/plain": [
              "<Figure size 1080x576 with 2 Axes>"
            ]
          },
          "metadata": {
            "needs_background": "light"
          }
        }
      ]
    },
    {
      "cell_type": "markdown",
      "metadata": {
        "id": "JU1SGx3llSK-"
      },
      "source": [
        "Dal grafico possiamo trarre alcune prime conclusioni:\n",
        "* Esiste una forte relazione negativa fra le accellerazioni e la salute del feto.\n",
        "Cio significa che le accelerazioni nel battito cardiaco hanno un ottimo significato.\n",
        "* Al contempo esiste una forte correlazione fra le decellerazioni prolugati e, come prima, la salute del feto\n",
        "* Inoltre possiamo notare che i bmp del feto non danno molte informazioni sul suo stato di salute.\n",
        "Specifichiamo tutta via che il battito cardiaco dovrebbe trovarsi in un range fra 110-160 e analizzando il nostro database vediamo che i valori non si discostano di molto dall'intervallo ideale"
      ]
    },
    {
      "cell_type": "code",
      "metadata": {
        "id": "zRMehAQdm8nv",
        "colab": {
          "base_uri": "https://localhost:8080/",
          "height": 0
        },
        "outputId": "5eef978d-e960-47cf-990d-ef7f0d5ff5ba"
      },
      "source": [
        "print(f\"I bpm al minimo sono : {data.Baseline_FHR.min()} BPM\")\n",
        "print(f\"I bpm al massimo sono : {data.Baseline_FHR.max()} BPM\")"
      ],
      "execution_count": 11,
      "outputs": [
        {
          "output_type": "stream",
          "name": "stdout",
          "text": [
            "I bpm al minimo sono : 106.0 BPM\n",
            "I bpm al massimo sono : 160.0 BPM\n"
          ]
        }
      ]
    },
    {
      "cell_type": "markdown",
      "metadata": {
        "id": "g_8qzW2G8TzC"
      },
      "source": [
        "Prima di iniziare l'analisi osserviamo che le classi target sono estremamente sbilanciate.\n",
        "Questo è più che ragionevole: si presume che siano più i bambini nati in buono stato di salute rispetto a quelli che subiscono complicazioni"
      ]
    },
    {
      "cell_type": "code",
      "metadata": {
        "id": "87hGRGqZroKn",
        "colab": {
          "base_uri": "https://localhost:8080/",
          "height": 0
        },
        "outputId": "af3008b2-f26e-48c9-b97b-1b13d551fe8b"
      },
      "source": [
        "#per sicurezza cambio i valori target in 0, 1, 2\n",
        "data['fetal_health'].replace({1:0,2:1,3:2}, inplace = True)\n",
        "data.fetal_health.value_counts()"
      ],
      "execution_count": 12,
      "outputs": [
        {
          "output_type": "execute_result",
          "data": {
            "text/plain": [
              "0.0    1646\n",
              "1.0     292\n",
              "2.0     175\n",
              "Name: fetal_health, dtype: int64"
            ]
          },
          "metadata": {},
          "execution_count": 12
        }
      ]
    },
    {
      "cell_type": "code",
      "metadata": {
        "id": "KjK_t6GXNUS9",
        "colab": {
          "base_uri": "https://localhost:8080/",
          "height": 417
        },
        "outputId": "184d5de5-fad6-4945-e480-6c15a8cd46c5"
      },
      "source": [
        "data_count= data.fetal_health.value_counts()\n",
        "axis_x= data_count.index\n",
        "axis_y=data_count.values\n",
        "color=['teal', 'orange', 'palevioletred']\n",
        "sns.set(font_scale=1)\n",
        "plt.figure(figsize=(12,6))\n",
        "plt.bar(x=axis_x, height=axis_y, color=color)\n",
        "plt.title(\"Numero di feti per classe\", fontsize=20)\n",
        "plt.xlabel(\"Fetal Category\", fontsize=15)\n",
        "plt.ylabel(\"Fetal Count\", fontsize=15)\n",
        "\n",
        "    \n",
        "plt.margins(y=0.2)"
      ],
      "execution_count": 13,
      "outputs": [
        {
          "output_type": "display_data",
          "data": {
            "image/png": "[encoded data removed]",
            "text/plain": [
              "<Figure size 864x432 with 1 Axes>"
            ]
          },
          "metadata": {}
        }
      ]
    },
    {
      "cell_type": "markdown",
      "metadata": {
        "id": "qmeL_N0iPJO0"
      },
      "source": [
        "Durante l'analisi consideremo modelli bilanciati attraverso il parametro 'class_weigth' il quale permette di dare un peso differente alle classi."
      ]
    },
    {
      "cell_type": "markdown",
      "metadata": {
        "id": "Ip3nWkBoPZFB"
      },
      "source": [
        "#Previsone\n",
        "\n",
        "\n",
        "\n",
        "\n",
        "\n"
      ]
    },
    {
      "cell_type": "markdown",
      "source": [
        "Prima di tutto dividiamo il database in traing set e test set e ottieniamo uno \n",
        "score di riferimento da un modello casuale.\n",
        "Il nostro modello sicuramente dovrà battere lo score di quello casuale."
      ],
      "metadata": {
        "id": "blKx6nsk9J4u"
      }
    },
    {
      "cell_type": "code",
      "metadata": {
        "id": "QEMo6gtdrJV0"
      },
      "source": [
        "from sklearn.model_selection import train_test_split\n",
        "y = data['fetal_health']\n",
        "x = data.drop(columns='fetal_health')\n",
        "X_train, X_test, y_train, y_test= train_test_split(x, y, test_size=1/3,random_state=42)\n"
      ],
      "execution_count": 14,
      "outputs": []
    },
    {
      "cell_type": "code",
      "source": [
        "random_model = Pipeline([\n",
        "    (\"scaler\", StandardScaler()),\n",
        "    (\"dummy\", DummyClassifier(strategy=\"most_frequent\",  random_state=42))\n",
        "])\n",
        "\n",
        "random_model.fit(X_train, y_train)\n",
        "random_model.score(X_test, y_test)\n"
      ],
      "metadata": {
        "id": "amePjU_Bm42F",
        "colab": {
          "base_uri": "https://localhost:8080/",
          "height": 0
        },
        "outputId": "7faf87a2-dc53-48c9-bbd3-e63e5d41e8c3"
      },
      "execution_count": 15,
      "outputs": [
        {
          "output_type": "execute_result",
          "data": {
            "text/plain": [
              "0.7886524822695036"
            ]
          },
          "metadata": {},
          "execution_count": 15
        }
      ]
    },
    {
      "cell_type": "markdown",
      "metadata": {
        "id": "QjQ6EAHSSl3W"
      },
      "source": [
        "#Perceptron"
      ]
    },
    {
      "cell_type": "markdown",
      "metadata": {
        "id": "5tDKKcOA8w9f"
      },
      "source": [
        "Il Perceptron è l'algoritmo di classificazione più semplice, volendo trovare una retta ( w*x + b=0 ) che separa una classe dalle altre, i parametri w e b sono inizializzati casualmente ed iterativamente vengo aggiornati per instanza mal classificata."
      ]
    },
    {
      "cell_type": "code",
      "metadata": {
        "id": "gIMvlhlc6qE5",
        "colab": {
          "base_uri": "https://localhost:8080/",
          "height": 0
        },
        "outputId": "40854f69-f602-4eeb-91ea-b913929c3e90"
      },
      "source": [
        "from sklearn.linear_model import Perceptron\n",
        "percptron_model = Perceptron(random_state=42)\n",
        "percptron_model.fit(X_train, y_train)\n",
        "percptron_model.score(X_test, y_test)"
      ],
      "execution_count": 16,
      "outputs": [
        {
          "output_type": "execute_result",
          "data": {
            "text/plain": [
              "0.7900709219858156"
            ]
          },
          "metadata": {},
          "execution_count": 16
        }
      ]
    },
    {
      "cell_type": "markdown",
      "metadata": {
        "id": "8QeqpLtE8-hN"
      },
      "source": [
        "Abbiamo un accuratezza di circa il 76% ma se considerassimo il bilanciamento delle classi il risultato potrebbe cambiare"
      ]
    },
    {
      "cell_type": "code",
      "metadata": {
        "id": "GId9aH6a82I5",
        "colab": {
          "base_uri": "https://localhost:8080/",
          "height": 0
        },
        "outputId": "65572f1f-1b94-4b91-b2c1-cb748fffbe74"
      },
      "source": [
        "\n",
        "perceptron_model_balanced = Perceptron(random_state=42, class_weight='balanced')\n",
        "perceptron_model_balanced.fit(X_train, y_train)\n",
        "perceptron_model_balanced.score(X_test, y_test)"
      ],
      "execution_count": 17,
      "outputs": [
        {
          "output_type": "execute_result",
          "data": {
            "text/plain": [
              "0.7219858156028369"
            ]
          },
          "metadata": {},
          "execution_count": 17
        }
      ]
    },
    {
      "cell_type": "markdown",
      "metadata": {
        "id": "cHz4No1qQ4FZ"
      },
      "source": [
        "vediamo che in effetti c'è poca differenza nello score non ostante il bilanciamento ma, per correttezza utilizzeremo il modello \"balanced\" durante l'analisi.\n",
        "Osserviamo inoltre che il perceptron bilanciato non è riuscito a battere lo score del modello casuale."
      ]
    },
    {
      "cell_type": "markdown",
      "metadata": {
        "id": "VdE25k3rSYBA"
      },
      "source": [
        "#Regressione logistica"
      ]
    },
    {
      "cell_type": "markdown",
      "metadata": {
        "id": "pZCoaLHZLbku"
      },
      "source": [
        "\n",
        "\n",
        "\n",
        "\n",
        "\n",
        "\n",
        "\n",
        "\n",
        "Il Perceptron è metodo molto semplice, utlizzare modelli piu complessi come la regressione logistica potrebbe migliorare il risultato.\n",
        "Utilizzando la regressione logistica, conviene  normalizzare i coefficenti attraverso norma 1 (L1) o norma 2 (L2).\n",
        "Per ottenere un miglior risultato quindi, utilizziamo una griglia contente i possibili iperparametri per il modello e attraverso la grid search ci assicuriamo di scegliere i migliori."
      ]
    },
    {
      "cell_type": "code",
      "metadata": {
        "id": "kO0zY3Q9eNkr",
        "colab": {
          "base_uri": "https://localhost:8080/",
          "height": 0
        },
        "outputId": "3e80c8b5-a9e2-46f5-b825-51076e89e743"
      },
      "source": [
        "\n",
        "skf = StratifiedKFold(3, shuffle=True)\n",
        "logistic_model = Pipeline([\n",
        "    (\"scaler\", StandardScaler()),\n",
        "\n",
        "    (\"logreg\", LogisticRegression(solver=\"saga\", random_state=42 ,class_weight='balanced'))\n",
        "])\n",
        "grid_reg = {\n",
        "    \"logreg__penalty\": [\"l2\", \"l1\"],\n",
        "    \"logreg__C\": np.logspace(-5,3,9),\n",
        "    \"logreg__multi_class\": [\"ovr\", \"multinomial\"]\n",
        "}\n",
        "gs_reg= GridSearchCV(logistic_model, grid_reg, cv=skf)\n",
        "gs_reg.fit(X_train, y_train);\n",
        "gs_reg.score(X_test, y_test)"
      ],
      "execution_count": 18,
      "outputs": [
        {
          "output_type": "execute_result",
          "data": {
            "text/plain": [
              "0.851063829787234"
            ]
          },
          "metadata": {},
          "execution_count": 18
        }
      ]
    },
    {
      "cell_type": "markdown",
      "metadata": {
        "id": "2S3Vld35g2BM"
      },
      "source": [
        "Come ci aspettavamo lo score dato dalla regressione logistica è nettamente migliore rispetto quello del perceptron.\n",
        "Ma lo score non è il miglior modo per misurare la bontà di un modello.\n",
        "Al posto dello score è meglio usare misure statistiche come la confusion matrix e la f1 meausre"
      ]
    },
    {
      "cell_type": "code",
      "metadata": {
        "id": "ojAWfRMLhZdN"
      },
      "source": [
        "#funzione che stampa alcune misure in base ai modelli che gli vengono passati\n",
        "def comparison(models): \n",
        "  model_accuracy= pd.DataFrame(columns=['Model', 'Accuracy'])\n",
        "\n",
        "  for name, model in models.items():\n",
        "    y_pred= model.predict(X_test)\n",
        "    acc=accuracy_score(y_test, y_pred)\n",
        "    train_pred= model.predict(X_train)\n",
        "    train_acc= accuracy_score(y_train, train_pred)\n",
        "    print(name + ' scores')\n",
        "    print(acc)\n",
        "    print(classification_report(y_test, y_pred))\n",
        "    print(confusion_matrix(y_test, y_pred))\n",
        "    print('~' * 100)\n",
        "    model_accuracy = model_accuracy.append({'Model': name, 'Accuracy': acc, 'Train_acc': train_acc}, ignore_index=True)"
      ],
      "execution_count": 19,
      "outputs": []
    },
    {
      "cell_type": "code",
      "metadata": {
        "id": "EWvtEO-K0qAk",
        "colab": {
          "base_uri": "https://localhost:8080/",
          "height": 0
        },
        "outputId": "9c025078-510e-4aea-dfb9-5b8f829d7434"
      },
      "source": [
        "\n",
        "models= {'BalancedPerceptron': perceptron_model_balanced, 'LogisticReg': gs_reg, 'Dummy':random_model}\n",
        "model_accuracy= pd.DataFrame(columns=['Model', 'Accuracy'])\n",
        "comparison(models)"
      ],
      "execution_count": 20,
      "outputs": [
        {
          "output_type": "stream",
          "name": "stdout",
          "text": [
            "BalancedPerceptron scores\n",
            "0.7219858156028369\n",
            "              precision    recall  f1-score   support\n",
            "\n",
            "         0.0       0.92      0.79      0.85       556\n",
            "         1.0       0.52      0.28      0.36        96\n",
            "         2.0       0.25      0.83      0.38        53\n",
            "\n",
            "    accuracy                           0.72       705\n",
            "   macro avg       0.56      0.63      0.53       705\n",
            "weighted avg       0.82      0.72      0.75       705\n",
            "\n",
            "[[438  23  95]\n",
            " [ 30  27  39]\n",
            " [  7   2  44]]\n",
            "~~~~~~~~~~~~~~~~~~~~~~~~~~~~~~~~~~~~~~~~~~~~~~~~~~~~~~~~~~~~~~~~~~~~~~~~~~~~~~~~~~~~~~~~~~~~~~~~~~~~\n",
            "LogisticReg scores\n",
            "0.851063829787234\n",
            "              precision    recall  f1-score   support\n",
            "\n",
            "         0.0       0.98      0.86      0.91       556\n",
            "         1.0       0.54      0.88      0.67        96\n",
            "         2.0       0.64      0.70      0.67        53\n",
            "\n",
            "    accuracy                           0.85       705\n",
            "   macro avg       0.72      0.81      0.75       705\n",
            "weighted avg       0.89      0.85      0.86       705\n",
            "\n",
            "[[479  59  18]\n",
            " [  9  84   3]\n",
            " [  3  13  37]]\n",
            "~~~~~~~~~~~~~~~~~~~~~~~~~~~~~~~~~~~~~~~~~~~~~~~~~~~~~~~~~~~~~~~~~~~~~~~~~~~~~~~~~~~~~~~~~~~~~~~~~~~~\n",
            "Dummy scores\n",
            "0.7886524822695036\n",
            "              precision    recall  f1-score   support\n",
            "\n",
            "         0.0       0.79      1.00      0.88       556\n",
            "         1.0       0.00      0.00      0.00        96\n",
            "         2.0       0.00      0.00      0.00        53\n",
            "\n",
            "    accuracy                           0.79       705\n",
            "   macro avg       0.26      0.33      0.29       705\n",
            "weighted avg       0.62      0.79      0.70       705\n",
            "\n",
            "[[556   0   0]\n",
            " [ 96   0   0]\n",
            " [ 53   0   0]]\n",
            "~~~~~~~~~~~~~~~~~~~~~~~~~~~~~~~~~~~~~~~~~~~~~~~~~~~~~~~~~~~~~~~~~~~~~~~~~~~~~~~~~~~~~~~~~~~~~~~~~~~~\n"
          ]
        }
      ]
    },
    {
      "cell_type": "markdown",
      "metadata": {
        "id": "f_95VZ2nlRFf"
      },
      "source": [
        "La confusion matrix è una matrice la cui diagonale rappresenta i valori predetti correttamente.\n",
        "Come possiamo inferire dalla matrice del perceptron questo modello sbaglia con una frequenza maggiore rispetto alla regressione logistica ma fa meglio rispetto al modello casuale, come ci si aspetta.\n",
        "Anche la F1 measure, misura utilizzata per confrontare due o più modelli, basata su precision e recall ci conferma quanto inferito dalla confusion matrix"
      ]
    },
    {
      "cell_type": "markdown",
      "metadata": {
        "id": "a45ktl_wR32X"
      },
      "source": [
        "#SVM"
      ]
    },
    {
      "cell_type": "markdown",
      "metadata": {
        "id": "1akgkuZtnEw0"
      },
      "source": [
        "Oltre alla regressione logistica esistono altri metodi più complessi che possiamo considerare per la nostra analisi, fra questi SVM (Support vector machine)\n",
        "Le support vector machine sfruttano le istanze vicine al decison bundary per trovare gli iperpiani di separazione migliori quindi che generino meno overfitting e quindi definiscano il maggior margine fra le classi.\n",
        "Le SVM nascono per affrontare problemi binari, con classi separabili linearmente ma sfruttando le funzioni kernel si possono applicare anche a problemi non linearmente separabili"
      ]
    },
    {
      "cell_type": "code",
      "metadata": {
        "id": "aD5ZfrHL1Tuw"
      },
      "source": [
        "\n",
        "model_SVM = Pipeline([\n",
        "    (\"scaler\", StandardScaler()),\n",
        "\n",
        "    (\"svc\", SVC(class_weight='balanced'))\n",
        "])\n",
        "grid3 = {\n",
        "    'svc__C' : np.logspace(-3,5,9),\n",
        "    'svc__kernel' : [ 'poly', 'rbf']\n",
        "}\n",
        "gs_SVM = GridSearchCV(model_SVM, grid3, cv=skf)\n",
        "gs_SVM.fit(X_train, y_train);\n"
      ],
      "execution_count": 21,
      "outputs": []
    },
    {
      "cell_type": "code",
      "metadata": {
        "id": "XzfDrGA_0MLe",
        "colab": {
          "base_uri": "https://localhost:8080/",
          "height": 0
        },
        "outputId": "85dad6ab-e32d-4af7-fb8c-a08d45016c4b"
      },
      "source": [
        "models= {'SVM': gs_SVM, 'LogisticReg': gs_reg}\n",
        "comparison(models)"
      ],
      "execution_count": 22,
      "outputs": [
        {
          "output_type": "stream",
          "name": "stdout",
          "text": [
            "SVM scores\n",
            "0.9177304964539007\n",
            "              precision    recall  f1-score   support\n",
            "\n",
            "         0.0       0.96      0.94      0.95       556\n",
            "         1.0       0.69      0.80      0.74        96\n",
            "         2.0       0.90      0.89      0.90        53\n",
            "\n",
            "    accuracy                           0.92       705\n",
            "   macro avg       0.85      0.88      0.86       705\n",
            "weighted avg       0.92      0.92      0.92       705\n",
            "\n",
            "[[523  31   2]\n",
            " [ 16  77   3]\n",
            " [  3   3  47]]\n",
            "~~~~~~~~~~~~~~~~~~~~~~~~~~~~~~~~~~~~~~~~~~~~~~~~~~~~~~~~~~~~~~~~~~~~~~~~~~~~~~~~~~~~~~~~~~~~~~~~~~~~\n",
            "LogisticReg scores\n",
            "0.851063829787234\n",
            "              precision    recall  f1-score   support\n",
            "\n",
            "         0.0       0.98      0.86      0.91       556\n",
            "         1.0       0.54      0.88      0.67        96\n",
            "         2.0       0.64      0.70      0.67        53\n",
            "\n",
            "    accuracy                           0.85       705\n",
            "   macro avg       0.72      0.81      0.75       705\n",
            "weighted avg       0.89      0.85      0.86       705\n",
            "\n",
            "[[479  59  18]\n",
            " [  9  84   3]\n",
            " [  3  13  37]]\n",
            "~~~~~~~~~~~~~~~~~~~~~~~~~~~~~~~~~~~~~~~~~~~~~~~~~~~~~~~~~~~~~~~~~~~~~~~~~~~~~~~~~~~~~~~~~~~~~~~~~~~~\n"
          ]
        }
      ]
    },
    {
      "cell_type": "markdown",
      "metadata": {
        "id": "iONYqUxo4F-6"
      },
      "source": [
        "Applicando una gridSearch per definire:  \n",
        "\n",
        "*   C: di quanto spostare i parametri missclassified\n",
        "*   kernel:  il tipo di fuzione kerneld usare\n",
        "\n",
        "possiamo aumentare lo score fino a circa il 90% migliorando anche la F1 measure "
      ]
    },
    {
      "cell_type": "markdown",
      "metadata": {
        "id": "p_hATlJOSKP3"
      },
      "source": [
        "#Decison tree"
      ]
    },
    {
      "cell_type": "markdown",
      "metadata": {
        "id": "SjI7dUd17ZXC"
      },
      "source": [
        "\n",
        "Lo svantaggio di SVM con gridSearch è quello di impiegare più tempo per ottenere il risultato.\n",
        "Una soluzione più efficiente sta negli algoritmi che sfruttano gli alberi per definire la classe di appartenza.\n",
        "Questi algoritmi risultano essere piu veloci di SVM e producono in egual modo ottimi risultati\n",
        "\n"
      ]
    },
    {
      "cell_type": "code",
      "metadata": {
        "id": "aN16d1fB5rmy",
        "colab": {
          "base_uri": "https://localhost:8080/",
          "height": 0
        },
        "outputId": "ff8913ce-5c1f-45e2-8616-b460f829e2aa"
      },
      "source": [
        "\n",
        "model_tree = Pipeline([\n",
        "    (\"scaler\", StandardScaler()),\n",
        "    ('tree', DecisionTreeClassifier(random_state=42))\n",
        "])\n",
        "grid = {\n",
        "         \"tree__max_depth\" : [5, 10, 15, 20],\n",
        "         \"tree__min_samples_leaf\": [1, 5, 10, 15],\n",
        "         \"tree__min_samples_split\": [2, 5, 10, 20],\n",
        "          \"tree__class_weight\": [\"balanced\"]\n",
        "}\n",
        "gs_tree = GridSearchCV(model_tree, grid, cv=skf)\n",
        "gs_tree.fit(X_train, y_train)\n",
        "gs_tree.score(X_test, y_test)"
      ],
      "execution_count": 23,
      "outputs": [
        {
          "output_type": "execute_result",
          "data": {
            "text/plain": [
              "0.9234042553191489"
            ]
          },
          "metadata": {},
          "execution_count": 23
        }
      ]
    },
    {
      "cell_type": "code",
      "metadata": {
        "id": "PKZEMRcr6d5H",
        "colab": {
          "base_uri": "https://localhost:8080/",
          "height": 0
        },
        "outputId": "190a5a95-8aff-4f04-9af0-0d31849f8740"
      },
      "source": [
        "models= {'LogisticReg': gs_reg, 'SVM': gs_SVM,  'DecisionTree': gs_tree}\n",
        "comparison(models)"
      ],
      "execution_count": 24,
      "outputs": [
        {
          "output_type": "stream",
          "name": "stdout",
          "text": [
            "LogisticReg scores\n",
            "0.851063829787234\n",
            "              precision    recall  f1-score   support\n",
            "\n",
            "         0.0       0.98      0.86      0.91       556\n",
            "         1.0       0.54      0.88      0.67        96\n",
            "         2.0       0.64      0.70      0.67        53\n",
            "\n",
            "    accuracy                           0.85       705\n",
            "   macro avg       0.72      0.81      0.75       705\n",
            "weighted avg       0.89      0.85      0.86       705\n",
            "\n",
            "[[479  59  18]\n",
            " [  9  84   3]\n",
            " [  3  13  37]]\n",
            "~~~~~~~~~~~~~~~~~~~~~~~~~~~~~~~~~~~~~~~~~~~~~~~~~~~~~~~~~~~~~~~~~~~~~~~~~~~~~~~~~~~~~~~~~~~~~~~~~~~~\n",
            "SVM scores\n",
            "0.9177304964539007\n",
            "              precision    recall  f1-score   support\n",
            "\n",
            "         0.0       0.96      0.94      0.95       556\n",
            "         1.0       0.69      0.80      0.74        96\n",
            "         2.0       0.90      0.89      0.90        53\n",
            "\n",
            "    accuracy                           0.92       705\n",
            "   macro avg       0.85      0.88      0.86       705\n",
            "weighted avg       0.92      0.92      0.92       705\n",
            "\n",
            "[[523  31   2]\n",
            " [ 16  77   3]\n",
            " [  3   3  47]]\n",
            "~~~~~~~~~~~~~~~~~~~~~~~~~~~~~~~~~~~~~~~~~~~~~~~~~~~~~~~~~~~~~~~~~~~~~~~~~~~~~~~~~~~~~~~~~~~~~~~~~~~~\n",
            "DecisionTree scores\n",
            "0.9234042553191489\n",
            "              precision    recall  f1-score   support\n",
            "\n",
            "         0.0       0.95      0.97      0.96       556\n",
            "         1.0       0.81      0.71      0.76        96\n",
            "         2.0       0.85      0.87      0.86        53\n",
            "\n",
            "    accuracy                           0.92       705\n",
            "   macro avg       0.87      0.85      0.86       705\n",
            "weighted avg       0.92      0.92      0.92       705\n",
            "\n",
            "[[537  14   5]\n",
            " [ 25  68   3]\n",
            " [  5   2  46]]\n",
            "~~~~~~~~~~~~~~~~~~~~~~~~~~~~~~~~~~~~~~~~~~~~~~~~~~~~~~~~~~~~~~~~~~~~~~~~~~~~~~~~~~~~~~~~~~~~~~~~~~~~\n"
          ]
        }
      ]
    },
    {
      "cell_type": "markdown",
      "source": [
        "Possiamo verificare a quali attributi il decision tree dia più importanza per ottenere tali risultati"
      ],
      "metadata": {
        "id": "9gF4BwyyM_XZ"
      }
    },
    {
      "cell_type": "code",
      "source": [
        "labels= list(data.columns)\n",
        "labels.remove('fetal_health')\n",
        "tree_feauture=pd.Series(gs_tree.best_estimator_.named_steps[\"tree\"].feature_importances_, index=labels)\n",
        "tree_feauture.plot(kind='barh', figsize=(16,12))"
      ],
      "metadata": {
        "colab": {
          "base_uri": "https://localhost:8080/",
          "height": 718
        },
        "id": "DiRo7mvlFPJ-",
        "outputId": "3ea1e0dd-72c8-48c7-c42f-37d8d260071c"
      },
      "execution_count": 25,
      "outputs": [
        {
          "output_type": "execute_result",
          "data": {
            "text/plain": [
              "<matplotlib.axes._subplots.AxesSubplot at 0x7f5b6916ac90>"
            ]
          },
          "metadata": {},
          "execution_count": 25
        },
        {
          "output_type": "display_data",
          "data": {
            "image/png": "[encoded data removed]",
            "text/plain": [
              "<Figure size 1152x864 with 1 Axes>"
            ]
          },
          "metadata": {}
        }
      ]
    },
    {
      "cell_type": "markdown",
      "metadata": {
        "id": "QlP62acL6ynw"
      },
      "source": [
        "stampando i tempi"
      ]
    },
    {
      "cell_type": "code",
      "metadata": {
        "id": "pp5Tg13T2dIg",
        "colab": {
          "base_uri": "https://localhost:8080/",
          "height": 0
        },
        "outputId": "291cc44b-cf4a-4c26-c45f-df9349028e89"
      },
      "source": [
        "%%time\n",
        "gs_tree = GridSearchCV(model_tree, grid, cv=skf)\n",
        "gs_tree.fit(X_train, y_train)\n",
        "gs_tree.score(X_test, y_test)"
      ],
      "execution_count": 26,
      "outputs": [
        {
          "output_type": "stream",
          "name": "stdout",
          "text": [
            "CPU times: user 1.7 s, sys: 12.9 ms, total: 1.71 s\n",
            "Wall time: 1.71 s\n"
          ]
        }
      ]
    },
    {
      "cell_type": "code",
      "metadata": {
        "id": "aCTY6S2u7OBn",
        "colab": {
          "base_uri": "https://localhost:8080/",
          "height": 0
        },
        "outputId": "4a24ba53-1479-4c7d-e7c8-4f87442b63d1"
      },
      "source": [
        "%%time\n",
        "gs_reg= GridSearchCV(logistic_model, grid_reg, cv=skf)\n",
        "gs_reg.fit(X_train, y_train);\n",
        "gs_reg.score(X_test, y_test)"
      ],
      "execution_count": 27,
      "outputs": [
        {
          "output_type": "stream",
          "name": "stdout",
          "text": [
            "CPU times: user 4 s, sys: 5.63 ms, total: 4 s\n",
            "Wall time: 4.01 s\n"
          ]
        }
      ]
    },
    {
      "cell_type": "code",
      "metadata": {
        "id": "q_wNcOmC6L-n",
        "colab": {
          "base_uri": "https://localhost:8080/",
          "height": 0
        },
        "outputId": "2628d7e9-103e-4394-c81c-15225c1851e5"
      },
      "source": [
        "%%time\n",
        "gs_SVM = GridSearchCV(model_SVM, grid3, cv=skf)\n",
        "gs_SVM.fit(X_train, y_train);\n",
        "gs_SVM.score(X_test, y_test)"
      ],
      "execution_count": 28,
      "outputs": [
        {
          "output_type": "stream",
          "name": "stdout",
          "text": [
            "CPU times: user 6.19 s, sys: 14.5 ms, total: 6.2 s\n",
            "Wall time: 6.18 s\n"
          ]
        }
      ]
    },
    {
      "cell_type": "markdown",
      "source": [
        "#Valutazione statistica"
      ],
      "metadata": {
        "id": "bTyDgSJrDrTZ"
      }
    },
    {
      "cell_type": "code",
      "source": [
        "def eval_difference_two_model(acc1, acc2, N1, N2, alpha, confidence_level=True):\n",
        "\n",
        "    print(f\"\\n*** Valutazione statistica differenza tra modello 1 e modello 2 ***\")\n",
        "    print(f\"(acc: {acc1}, N: {N1}) (acc: {acc2}, N: {N2})\\n\")\n",
        "    Z = st.norm.ppf(1-alpha/2)\n",
        "    e1 = 1 - acc1; e2 = 1 - acc2\n",
        "    d= abs(e2-e1)\n",
        "    var_d = (e1*(1-e1))/N1 + (e2*(1-e2))/N2\n",
        "    d_min = d - Z * var_d**0.5\n",
        "    d_max = d + Z * var_d**0.5\n",
        "    \n",
        "    if confidence_level:\n",
        "        print(f\"\\n*** Valutazione soglia confidenza che rende significativa la differenza tra i due modelli ***\")\n",
        "        print(f\"a: {np.round(st.norm.sf(d/var_d**0.5) * 2, 2)}\\n\")\n",
        "    \n",
        "    return d_min, d_max\n"
      ],
      "metadata": {
        "id": "vL6eXiZJAdtl"
      },
      "execution_count": 29,
      "outputs": []
    },
    {
      "cell_type": "code",
      "source": [
        "y_pred_tree=gs_tree.predict(X_test)\n",
        "tree_acc=accuracy_score(y_test, y_pred_tree)\n",
        "y_pred_svm=gs_SVM.predict(X_test)\n",
        "svm_acc=accuracy_score(y_test, y_pred_svm)\n"
      ],
      "metadata": {
        "id": "UFKM4y_oAqQb"
      },
      "execution_count": 30,
      "outputs": []
    },
    {
      "cell_type": "code",
      "source": [
        "eval_difference_two_model(acc1=tree_acc, acc2=svm_acc, N1=X_test.shape[0], N2=X_test.shape[0], alpha=0.05)"
      ],
      "metadata": {
        "id": "K9Uj2cwLAoLc",
        "colab": {
          "base_uri": "https://localhost:8080/",
          "height": 0
        },
        "outputId": "f3a64ca0-754d-4273-9d3f-f6cc1fb0ae53"
      },
      "execution_count": 31,
      "outputs": [
        {
          "output_type": "stream",
          "name": "stdout",
          "text": [
            "\n",
            "*** Valutazione statistica differenza tra modello 1 e modello 2 ***\n",
            "(acc: 0.9234042553191489, N: 705) (acc: 0.9177304964539007, N: 705)\n",
            "\n",
            "\n",
            "*** Valutazione soglia confidenza che rende significativa la differenza tra i due modelli ***\n",
            "a: 0.69\n",
            "\n"
          ]
        },
        {
          "output_type": "execute_result",
          "data": {
            "text/plain": [
              "(-0.022553705957244867, 0.03390122368774134)"
            ]
          },
          "metadata": {},
          "execution_count": 31
        }
      ]
    },
    {
      "cell_type": "markdown",
      "source": [
        "Con confidenza di 0.95 la differenza di performance fra i due modelli è frutto del caso.\n",
        "Per ottener una differenza significativa è necessario che la confidenza sia < 76\n",
        "possiamo considerare la differenza di performance fra i due modelli frutto del caso."
      ],
      "metadata": {
        "id": "wPcgbvD_ONEu"
      }
    },
    {
      "cell_type": "markdown",
      "source": [
        "Considerando il modello casuale invece, ci accorgiamo, come è ragionevole che sia, che la differenza fra i due modelli è sempre significativa e mai frutto del caso."
      ],
      "metadata": {
        "id": "Oc5sgmtDSjbW"
      }
    },
    {
      "cell_type": "code",
      "source": [
        "y_pred_rand= random_model.predict(X_test)\n",
        "random_acc= accuracy_score(y_test, y_pred_rand)"
      ],
      "metadata": {
        "id": "QmRs9bLaQO5d"
      },
      "execution_count": 32,
      "outputs": []
    },
    {
      "cell_type": "code",
      "source": [
        "eval_difference_two_model(acc1=svm_acc, acc2=random_acc, N1=X_test.shape[0], N2=X_test.shape[0], alpha=0.05)"
      ],
      "metadata": {
        "colab": {
          "base_uri": "https://localhost:8080/",
          "height": 0
        },
        "id": "1CHUzhw1RUEx",
        "outputId": "fbb5dbc2-28c7-4d44-8b0e-26638a6dbd8c"
      },
      "execution_count": 33,
      "outputs": [
        {
          "output_type": "stream",
          "name": "stdout",
          "text": [
            "\n",
            "*** Valutazione statistica differenza tra modello 1 e modello 2 ***\n",
            "(acc: 0.9177304964539007, N: 705) (acc: 0.7886524822695036, N: 705)\n",
            "\n",
            "\n",
            "*** Valutazione soglia confidenza che rende significativa la differenza tra i due modelli ***\n",
            "a: 0.0\n",
            "\n"
          ]
        },
        {
          "output_type": "execute_result",
          "data": {
            "text/plain": [
              "(0.09275151506309748, 0.16540451330569678)"
            ]
          },
          "metadata": {},
          "execution_count": 33
        }
      ]
    },
    {
      "cell_type": "markdown",
      "source": [
        "#Bilanciamento\n",
        "Esiste un altro modo per bilanciare la classi.\n",
        "Attraverso SMOTE infatti si creano( rispettando la distribuzione di quelle gia presenti) delle istantze fittizie appartenenti alla classe meno rappresentata per bilanciare il database."
      ],
      "metadata": {
        "id": "fQyEGmUWAbqB"
      }
    },
    {
      "cell_type": "code",
      "source": [
        "from imblearn.over_sampling import SMOTE\n",
        "\n",
        "balancer = SMOTE(random_state=42)\n"
      ],
      "metadata": {
        "id": "hbSehm234K0M"
      },
      "execution_count": 34,
      "outputs": []
    },
    {
      "cell_type": "code",
      "source": [
        "X_train_smote = pd.DataFrame(balancer.fit_resample(X_train, y_train)[0])\n",
        "y_train_smote = pd.DataFrame(balancer.fit_resample(X_train, y_train)[1])\n"
      ],
      "metadata": {
        "id": "u8voNoLK4YNG"
      },
      "execution_count": 35,
      "outputs": []
    },
    {
      "cell_type": "code",
      "source": [
        "tree_balaced_model = Pipeline([\n",
        "    (\"scaler\", StandardScaler()),\n",
        "   ('tree', DecisionTreeClassifier(max_depth=15, random_state=42, min_samples_split=2, min_samples_leaf=1))\n",
        "])\n",
        "    \n",
        "\n",
        "\n",
        "tree_balaced_model.fit(X_train_smote, y_train_smote)\n",
        "tree_balaced_model.score(X_test, y_test)"
      ],
      "metadata": {
        "colab": {
          "base_uri": "https://localhost:8080/",
          "height": 0
        },
        "id": "gTxSQjn341YH",
        "outputId": "dc1e3346-0d0c-4452-8dea-ac7b08a543e3"
      },
      "execution_count": 36,
      "outputs": [
        {
          "output_type": "execute_result",
          "data": {
            "text/plain": [
              "0.9134751773049645"
            ]
          },
          "metadata": {},
          "execution_count": 36
        }
      ]
    },
    {
      "cell_type": "code",
      "source": [
        "models= {'TREE': gs_tree, 'BALANCED_TREE': tree_balaced_model}\n",
        "comparison(models)"
      ],
      "metadata": {
        "colab": {
          "base_uri": "https://localhost:8080/",
          "height": 0
        },
        "id": "aeZeQwWu41P5",
        "outputId": "d0e85c7f-3310-46d2-de72-189ce99b0f72"
      },
      "execution_count": 37,
      "outputs": [
        {
          "output_type": "stream",
          "name": "stdout",
          "text": [
            "TREE scores\n",
            "0.9234042553191489\n",
            "              precision    recall  f1-score   support\n",
            "\n",
            "         0.0       0.95      0.97      0.96       556\n",
            "         1.0       0.81      0.71      0.76        96\n",
            "         2.0       0.85      0.87      0.86        53\n",
            "\n",
            "    accuracy                           0.92       705\n",
            "   macro avg       0.87      0.85      0.86       705\n",
            "weighted avg       0.92      0.92      0.92       705\n",
            "\n",
            "[[537  14   5]\n",
            " [ 25  68   3]\n",
            " [  5   2  46]]\n",
            "~~~~~~~~~~~~~~~~~~~~~~~~~~~~~~~~~~~~~~~~~~~~~~~~~~~~~~~~~~~~~~~~~~~~~~~~~~~~~~~~~~~~~~~~~~~~~~~~~~~~\n",
            "BALANCED_TREE scores\n",
            "0.9134751773049645\n",
            "              precision    recall  f1-score   support\n",
            "\n",
            "         0.0       0.95      0.95      0.95       556\n",
            "         1.0       0.75      0.71      0.73        96\n",
            "         2.0       0.81      0.91      0.86        53\n",
            "\n",
            "    accuracy                           0.91       705\n",
            "   macro avg       0.84      0.85      0.84       705\n",
            "weighted avg       0.91      0.91      0.91       705\n",
            "\n",
            "[[528  21   7]\n",
            " [ 24  68   4]\n",
            " [  3   2  48]]\n",
            "~~~~~~~~~~~~~~~~~~~~~~~~~~~~~~~~~~~~~~~~~~~~~~~~~~~~~~~~~~~~~~~~~~~~~~~~~~~~~~~~~~~~~~~~~~~~~~~~~~~~\n"
          ]
        }
      ]
    },
    {
      "cell_type": "markdown",
      "source": [
        "Confrontando i modelli bilanciati attraverso il parametro 'class_weigth' e attraverso smote osserviamo che i risultati non discostano eccessivamentefra loro. "
      ],
      "metadata": {
        "id": "2xuxapTFBGc9"
      }
    },
    {
      "cell_type": "markdown",
      "metadata": {
        "id": "eL-CpPQlKqf-"
      },
      "source": [
        "#Conclusioni\n",
        "\n",
        "Esistono altri modelli più complessi che possono portare la precisione fino al 95%.\n",
        "In prima analisi, tutta via, i risultati ottenuti dai modelli sopra descritti sembrano più che ottimi.\n",
        "Il modello migliore per rapidità  è quello che sfrutta gli alberi di regressione in più come osservato prima non risulatano esserci differenze statisticamente significative con l'SVM.\n",
        "Quest'ultimo modello (SVM) ha ottime performance a fronte di un maggiore tempo di attesa, considerando i parametri inseriti nella grid search.\n",
        "\n",
        "La regressione logistica batte il modello casuale ma non è preferibile ai modelli sopra descritti."
      ]
    }
  ]
}